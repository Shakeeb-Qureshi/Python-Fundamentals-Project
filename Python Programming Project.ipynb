{
 "cells": [
  {
   "cell_type": "markdown",
   "metadata": {
    "delateable": false,
    "editable": false
   },
   "source": [
    "# <div class=\"alert alert-block alert-info\"> <span style=\"font-family: Times New Roman\">Assignment on python fundamentals</span> </div>\n"
   ]
  },
  {
   "cell_type": "markdown",
   "metadata": {
    "delateable": false,
    "editable": false
   },
   "source": [
    "###### Note: \n",
    "<div class=\"alert alert-block alert-danger\"> <span style=\"font-family: Times New Roman\"> \n",
    "    - Kindly use this notebook to solve the programming problems. <br>\n",
    "- Submit assignments with .ipynb file extension only.<br>\n",
    "- Kindly use comments or markdowns to explain logic behind the codes, approach to solve the problem.</span></div>"
   ]
  },
  {
   "cell_type": "markdown",
   "metadata": {
    "delateable": false,
    "editable": false
   },
   "source": [
    "<div class=\"warning\" style='padding:0.1em; background-color:#E9D8FD; color:#69337A'>\n",
    "<span>\n",
    "<p style='margin-top:1em; text-align:left'>\n",
    "<b>1. By using a single 'print' function print the provided string in specified execution format. </b></p>\n",
    "    \n",
    "Hello World     \n",
    "Welcome to 'Python' Programming\n",
    "\n"
   ]
  },
  {
   "cell_type": "code",
   "execution_count": 1,
   "metadata": {},
   "outputs": [
    {
     "name": "stdout",
     "output_type": "stream",
     "text": [
      "Hello World\n",
      "Welcome to 'Python' Programming\n"
     ]
    }
   ],
   "source": [
    "print('''Hello World\n",
    "Welcome to \\'Python' Programming''')"
   ]
  },
  {
   "cell_type": "markdown",
   "metadata": {
    "delateable": false,
    "editable": false
   },
   "source": [
    "<div class=\"warning\" style='padding:0.1em; background-color:#E9D8FD; color:#69337A'>\n",
    "<span>\n",
    "<p style='margin-top:1em; text-align:left'>\n",
    "<b>2. Check the python version which you are using. </b></p>\n",
    "</span></div>\n"
   ]
  },
  {
   "cell_type": "code",
   "execution_count": 2,
   "metadata": {},
   "outputs": [
    {
     "name": "stdout",
     "output_type": "stream",
     "text": [
      "3.11.4 | packaged by Anaconda, Inc. | (main, Jul  5 2023, 13:38:37) [MSC v.1916 64 bit (AMD64)]\n"
     ]
    }
   ],
   "source": [
    "import sys # Importing the sys module\n",
    "\n",
    "# Printing the version of Python being used\n",
    "print(sys.version)"
   ]
  },
  {
   "cell_type": "markdown",
   "metadata": {
    "delateable": false,
    "editable": false
   },
   "source": [
    "<div class=\"warning\" style='padding:0.1em; background-color:#E9D8FD; color:#69337A'>\n",
    "<span>\n",
    "<p style='margin-top:1em; text-align:left'>\n",
    "<b>3. Design a Python program which can calculate the area by taking radius as input by 'user input' method. </b></p>\n",
    "<table>\n",
    "  <tr>\n",
    "  <td><td>\n",
    "      <br> instead of giving direct values try using \"<b>float(input())</b>\" </td>\n",
    "  </tr>\n",
    "</table>\n",
    "</span>\n",
    "</div>\n"
   ]
  },
  {
   "cell_type": "code",
   "execution_count": 3,
   "metadata": {},
   "outputs": [
    {
     "name": "stdout",
     "output_type": "stream",
     "text": [
      "Enter radius of circle : 10\n",
      "Area of Circle with radius 10.0 is  314.2857142857143 square units\n"
     ]
    }
   ],
   "source": [
    "# Taking input from the user for the radius of the circle\n",
    "Radius = float(input(\"Enter radius of circle : \"))\n",
    "\n",
    "# Calculating the area of the circle using the formula: π * r^2\n",
    "Area_of_Circle = (22/7) * Radius * Radius\n",
    "\n",
    "# Printing the calculated area of the circle\n",
    "print(\"Area of Circle with radius {} is \".format(Radius), Area_of_Circle, \"square units\")"
   ]
  },
  {
   "cell_type": "markdown",
   "metadata": {
    "delateable": false,
    "editable": false
   },
   "source": [
    "<div class=\"warning\" style='padding:0.1em; background-color:#E9D8FD; color:#69337A'>\n",
    "<span>\n",
    "<p style='margin-top:1em; text-align:left'>\n",
    "<b>4. Write a python program which can take your first and last name seperately and execute as shown below. </b></p>\n",
    "<table>\n",
    "  <tr>\n",
    "  <td><td>\n",
    "      <br><b>Sample execution</b> : Hello 'first name' 'last name', hope you are doing good</td>\n",
    "  </tr>\n",
    "</table>\n",
    "</span></div>\n"
   ]
  },
  {
   "cell_type": "code",
   "execution_count": 4,
   "metadata": {},
   "outputs": [
    {
     "name": "stdout",
     "output_type": "stream",
     "text": [
      "Please enter your First Name : Shakeeb\n",
      "Please enter your Last Name : Qureshi\n",
      "Hello 'Shakeeb' 'Qureshi', hope you are doing good\n"
     ]
    }
   ],
   "source": [
    "# Taking input from the user to enter their first name and storing it in the variable First_name\n",
    "First_name = input(\"Please enter your First Name : \")\n",
    "\n",
    "# Taking input from the user to enter their last name and storing it in the variable Last_name\n",
    "Last_name = input(\"Please enter your Last Name : \")\n",
    "\n",
    "# Printing a greeting message using string formatting to include the user's first and last names\n",
    "print(\"Hello '{}' '{}', hope you are doing good\".format(First_name,Last_name))"
   ]
  },
  {
   "cell_type": "markdown",
   "metadata": {
    "delateable": false,
    "editable": false
   },
   "source": [
    "<div class=\"warning\" style='padding:0.1em; background-color:#E9D8FD; color:#69337A'>\n",
    "<span>\n",
    "<p style='margin-top:1em; text-align:left'>\n",
    "<b>5. Write a python program which can convert kilograms to grams.</b></p>\n",
    "</span></div>\n",
    "\n"
   ]
  },
  {
   "cell_type": "code",
   "execution_count": 5,
   "metadata": {},
   "outputs": [
    {
     "name": "stdout",
     "output_type": "stream",
     "text": [
      "Enter value in Kilograms : 55\n",
      "55.0 kilograms is equal to  55000.0 grams\n"
     ]
    }
   ],
   "source": [
    "# Taking input from the user to enter a value in kilograms\n",
    "Kilograms = float(input(\"Enter value in Kilograms : \"))\n",
    "\n",
    "# Multiplying the entered value by 1000 to convert kilograms to grams\n",
    "Conversion = Kilograms * 1000\n",
    "\n",
    "# Printing the converted value in grams\n",
    "print(\"{} kilograms is equal to \".format(Kilograms), Conversion, \"grams\")"
   ]
  },
  {
   "cell_type": "markdown",
   "metadata": {
    "delateable": false,
    "editable": false
   },
   "source": [
    "<div class=\"warning\" style='padding:0.1em; background-color:#E9D8FD; color:#69337A'>\n",
    "<span>\n",
    "<p style='margin-top:1em; text-align:left'>\n",
    "<b>6. Create a list and store the given elements in the list, and solve the following questions listed below.</b></p>\n",
    "<table>\n",
    "  <tr>\n",
    "  <td><td>\n",
    "      <br><b>Elements</b>: 'Bengaluru','New York', 1971, '1682', (1,2,3,4,5,'Is this tuple?'),\"'Hello,welcome to Python Programming'\"</td>\n",
    "  </tr>\n",
    "</table>\n",
    "</span>  \n",
    "\n",
    "- Try to extract entire tuple by using positive indexing  \n",
    "- Can we add elements into tuple after creating it?\n",
    "- Remove '1682' and 'New York' from the list\n",
    "- Discuss one practical application of tuple and lists\n",
    "- Access 'Bengaluru' by Negitive indexing\n",
    "- add 'Mumbai' into the list\n",
    "\n",
    "- Try to perform one operation on each removal operation on lists \n",
    "\n",
    "1. del\n",
    "2. remove\n",
    "3. pop\n",
    "- Try to perform one operation on each operational\n",
    "1. append\n",
    "2. entend\n",
    "3. insert</div>"
   ]
  },
  {
   "cell_type": "markdown",
   "metadata": {},
   "source": [
    "### Creating a list and storing given elements"
   ]
  },
  {
   "cell_type": "code",
   "execution_count": 6,
   "metadata": {},
   "outputs": [
    {
     "data": {
      "text/plain": [
       "['Bengaluru',\n",
       " 'New York',\n",
       " 1971,\n",
       " '1682',\n",
       " (1, 2, 3, 4, 5, 'Is this tuple?'),\n",
       " \"'Hello, welcome to Python Programming'\"]"
      ]
     },
     "execution_count": 6,
     "metadata": {},
     "output_type": "execute_result"
    }
   ],
   "source": [
    "list = ['Bengaluru','New York',1971,'1682',(1,2,3,4,5,'Is this tuple?'),\"'Hello, welcome to Python Programming'\"]\n",
    "list"
   ]
  },
  {
   "cell_type": "markdown",
   "metadata": {},
   "source": [
    "### Try to extract entire tuple by using positive indexing"
   ]
  },
  {
   "cell_type": "code",
   "execution_count": 7,
   "metadata": {},
   "outputs": [
    {
     "data": {
      "text/plain": [
       "(1, 2, 3, 4, 5, 'Is this tuple?')"
      ]
     },
     "execution_count": 7,
     "metadata": {},
     "output_type": "execute_result"
    }
   ],
   "source": [
    "list[4]"
   ]
  },
  {
   "cell_type": "markdown",
   "metadata": {},
   "source": [
    "### Can we add elements into tuple after creating it?\n",
    "\n",
    " #### No, tuples are immutable in Python, which means once created, we cannot modify the content.\n",
    " #### Therefore, we cannot directly add elements to a tuple after it has been created. </p>\n",
    "\n",
    "However, In-order to add elements into a new tuple, we can do the following 2 procedures\n",
    "1. By converting tuple to list, adding the elements and then converting it back to tuple\n",
    "2. We can create a new tuple by concatenating the existing tuple with another tuple containing the new elements. \n",
    "Here's an example:"
   ]
  },
  {
   "cell_type": "code",
   "execution_count": 8,
   "metadata": {},
   "outputs": [
    {
     "name": "stdout",
     "output_type": "stream",
     "text": [
      "(1, 2, 3, 4, 5)\n"
     ]
    }
   ],
   "source": [
    "# Existing tuple\n",
    "my_tuple = (1, 2, 3)\n",
    "\n",
    "# New elements to add\n",
    "new_elements = (4, 5)\n",
    "\n",
    "# Concatenate the tuples to create a new tuple\n",
    "new_tuple = my_tuple + new_elements\n",
    "\n",
    "print(new_tuple)"
   ]
  },
  {
   "cell_type": "markdown",
   "metadata": {},
   "source": [
    "### Remove '1682' and 'New York' from the list"
   ]
  },
  {
   "cell_type": "code",
   "execution_count": 9,
   "metadata": {
    "scrolled": false
   },
   "outputs": [
    {
     "data": {
      "text/plain": [
       "['Bengaluru',\n",
       " 1971,\n",
       " (1, 2, 3, 4, 5, 'Is this tuple?'),\n",
       " \"'Hello, welcome to Python Programming'\"]"
      ]
     },
     "execution_count": 9,
     "metadata": {},
     "output_type": "execute_result"
    }
   ],
   "source": [
    "list.remove('1682')\n",
    "list.remove('New York')\n",
    "list"
   ]
  },
  {
   "cell_type": "markdown",
   "metadata": {},
   "source": [
    "### Discuss one practical application of tuple and lists </p>\n",
    "\n",
    "#### One practical application of tuples is in representing fixed sequences of elements. \n",
    "Tuples are often used to store data that shouldn't be modified, such as \n",
    "1. Co-ordinates\n",
    "2. RGB color values\n",
    "\n",
    "#### One practical application of lists is in managing collections of data that can change over time. \n",
    "Lists are commonly used for dynamic data structures where elements can be added, removed, or modified, such as\n",
    "1. Students names in an Institute\n",
    "2. Employee names in an organization\n",
    "\n",
    "Below are examples of the same :"
   ]
  },
  {
   "cell_type": "code",
   "execution_count": 10,
   "metadata": {},
   "outputs": [
    {
     "name": "stdout",
     "output_type": "stream",
     "text": [
      "(3, 5)\n",
      "(255, 0, 0)\n",
      "['Ramesh', 'Suresh', 'Mahesh', 'Rakesh']\n",
      "['David', 'John', 'Christian', 'Dan']\n"
     ]
    }
   ],
   "source": [
    "# Co-ordinates \n",
    "coordinate = (3, 5)\n",
    "\n",
    "# RGB color values\n",
    "red = (255, 0, 0)\n",
    "\n",
    "# Students names in an Institute\n",
    "students = ['Ramesh','Suresh','Mahesh','Rakesh']\n",
    "\n",
    "#Employee names in an organization\n",
    "employees = ['David', 'John', 'Christian', 'Dan']\n",
    "\n",
    "print(coordinate)\n",
    "print(red)\n",
    "print(students)\n",
    "print(employees)"
   ]
  },
  {
   "cell_type": "code",
   "execution_count": 11,
   "metadata": {},
   "outputs": [
    {
     "data": {
      "text/plain": [
       "['Bengaluru',\n",
       " 'New York',\n",
       " 1971,\n",
       " '1682',\n",
       " (1, 2, 3, 4, 5, 'Is this tuple?'),\n",
       " \"'Hello, welcome to Python Programming'\"]"
      ]
     },
     "execution_count": 11,
     "metadata": {},
     "output_type": "execute_result"
    }
   ],
   "source": [
    "### Creating the original list again, since modifications were made on the original list\n",
    "### And we were asked to carry out further questions on the original list only\n",
    "\n",
    "list = ['Bengaluru','New York',1971,'1682',(1,2,3,4,5,'Is this tuple?'),\"'Hello, welcome to Python Programming'\"]\n",
    "list"
   ]
  },
  {
   "cell_type": "markdown",
   "metadata": {},
   "source": [
    "### Access 'Bengaluru' by Negitive indexing"
   ]
  },
  {
   "cell_type": "code",
   "execution_count": 12,
   "metadata": {
    "scrolled": false
   },
   "outputs": [
    {
     "data": {
      "text/plain": [
       "'Bengaluru'"
      ]
     },
     "execution_count": 12,
     "metadata": {},
     "output_type": "execute_result"
    }
   ],
   "source": [
    "list[-6]"
   ]
  },
  {
   "cell_type": "markdown",
   "metadata": {},
   "source": [
    "### Add 'Mumbai' into the list"
   ]
  },
  {
   "cell_type": "code",
   "execution_count": 13,
   "metadata": {},
   "outputs": [
    {
     "data": {
      "text/plain": [
       "['Bengaluru',\n",
       " 'New York',\n",
       " 1971,\n",
       " '1682',\n",
       " (1, 2, 3, 4, 5, 'Is this tuple?'),\n",
       " \"'Hello, welcome to Python Programming'\",\n",
       " 'Mumbai']"
      ]
     },
     "execution_count": 13,
     "metadata": {},
     "output_type": "execute_result"
    }
   ],
   "source": [
    "list.append('Mumbai')\n",
    "list"
   ]
  },
  {
   "cell_type": "code",
   "execution_count": 14,
   "metadata": {},
   "outputs": [
    {
     "data": {
      "text/plain": [
       "['Bengaluru',\n",
       " 'New York',\n",
       " 1971,\n",
       " '1682',\n",
       " (1, 2, 3, 4, 5, 'Is this tuple?'),\n",
       " \"'Hello, welcome to Python Programming'\"]"
      ]
     },
     "execution_count": 14,
     "metadata": {},
     "output_type": "execute_result"
    }
   ],
   "source": [
    "### Creating the original list again, since modifications were been made on the original list\n",
    "### And we were asked carry out further questions on the original list only\n",
    "\n",
    "list = ['Bengaluru','New York',1971,'1682',(1,2,3,4,5,'Is this tuple?'),\"'Hello, welcome to Python Programming'\"]\n",
    "list"
   ]
  },
  {
   "cell_type": "markdown",
   "metadata": {},
   "source": [
    "### Try to perform one operation on each operation on lists"
   ]
  },
  {
   "cell_type": "markdown",
   "metadata": {},
   "source": [
    "#### del"
   ]
  },
  {
   "cell_type": "code",
   "execution_count": 15,
   "metadata": {},
   "outputs": [
    {
     "data": {
      "text/plain": [
       "['Bengaluru',\n",
       " 'New York',\n",
       " '1682',\n",
       " (1, 2, 3, 4, 5, 'Is this tuple?'),\n",
       " \"'Hello, welcome to Python Programming'\"]"
      ]
     },
     "execution_count": 15,
     "metadata": {},
     "output_type": "execute_result"
    }
   ],
   "source": [
    "del list[2] # Deletes the value at index 2 from the list\n",
    "list"
   ]
  },
  {
   "cell_type": "code",
   "execution_count": 16,
   "metadata": {},
   "outputs": [
    {
     "data": {
      "text/plain": [
       "['Bengaluru',\n",
       " 'New York',\n",
       " 1971,\n",
       " '1682',\n",
       " (1, 2, 3, 4, 5, 'Is this tuple?'),\n",
       " \"'Hello, welcome to Python Programming'\"]"
      ]
     },
     "execution_count": 16,
     "metadata": {},
     "output_type": "execute_result"
    }
   ],
   "source": [
    "### Creating the original list again, since modifications were made on the original list\n",
    "### And we were asked carry out further questions on the original list only\n",
    "\n",
    "list = ['Bengaluru','New York',1971,'1682',(1,2,3,4,5,'Is this tuple?'),\"'Hello, welcome to Python Programming'\"]\n",
    "list"
   ]
  },
  {
   "cell_type": "markdown",
   "metadata": {},
   "source": [
    "#### remove"
   ]
  },
  {
   "cell_type": "code",
   "execution_count": 17,
   "metadata": {
    "scrolled": true
   },
   "outputs": [
    {
     "data": {
      "text/plain": [
       "['New York',\n",
       " 1971,\n",
       " '1682',\n",
       " (1, 2, 3, 4, 5, 'Is this tuple?'),\n",
       " \"'Hello, welcome to Python Programming'\"]"
      ]
     },
     "execution_count": 17,
     "metadata": {},
     "output_type": "execute_result"
    }
   ],
   "source": [
    "list.remove('Bengaluru') # Removes the value 'Bangalore' from the list\n",
    "list"
   ]
  },
  {
   "cell_type": "code",
   "execution_count": 18,
   "metadata": {},
   "outputs": [
    {
     "data": {
      "text/plain": [
       "['Bengaluru',\n",
       " 'New York',\n",
       " 1971,\n",
       " '1682',\n",
       " (1, 2, 3, 4, 5, 'Is this tuple?'),\n",
       " \"'Hello, welcome to Python Programming'\"]"
      ]
     },
     "execution_count": 18,
     "metadata": {},
     "output_type": "execute_result"
    }
   ],
   "source": [
    "### Creating the original list again, since modifications were made on the original list\n",
    "### And we were asked carry out further questions on the original list only\n",
    "\n",
    "list = ['Bengaluru','New York',1971,'1682',(1,2,3,4,5,'Is this tuple?'),\"'Hello, welcome to Python Programming'\"]\n",
    "list"
   ]
  },
  {
   "cell_type": "markdown",
   "metadata": {},
   "source": [
    "#### pop"
   ]
  },
  {
   "cell_type": "code",
   "execution_count": 19,
   "metadata": {},
   "outputs": [
    {
     "data": {
      "text/plain": [
       "'1682'"
      ]
     },
     "execution_count": 19,
     "metadata": {},
     "output_type": "execute_result"
    }
   ],
   "source": [
    "list.pop(3) # Removes the value at index 3 and returns the removed value"
   ]
  },
  {
   "cell_type": "code",
   "execution_count": 20,
   "metadata": {},
   "outputs": [
    {
     "data": {
      "text/plain": [
       "['Bengaluru',\n",
       " 'New York',\n",
       " 1971,\n",
       " '1682',\n",
       " (1, 2, 3, 4, 5, 'Is this tuple?'),\n",
       " \"'Hello, welcome to Python Programming'\"]"
      ]
     },
     "execution_count": 20,
     "metadata": {},
     "output_type": "execute_result"
    }
   ],
   "source": [
    "### Creating the original list again, since modifications were made on the original list\n",
    "### And we were asked carry out further questions on the original list only\n",
    "\n",
    "list = ['Bengaluru','New York',1971,'1682',(1,2,3,4,5,'Is this tuple?'),\"'Hello, welcome to Python Programming'\"]\n",
    "list"
   ]
  },
  {
   "cell_type": "markdown",
   "metadata": {},
   "source": [
    "#### append"
   ]
  },
  {
   "cell_type": "code",
   "execution_count": 21,
   "metadata": {},
   "outputs": [
    {
     "data": {
      "text/plain": [
       "['Bengaluru',\n",
       " 'New York',\n",
       " 1971,\n",
       " '1682',\n",
       " (1, 2, 3, 4, 5, 'Is this tuple?'),\n",
       " \"'Hello, welcome to Python Programming'\",\n",
       " 'Hyderabad']"
      ]
     },
     "execution_count": 21,
     "metadata": {},
     "output_type": "execute_result"
    }
   ],
   "source": [
    "list.append('Hyderabad') # Adds a value 'Hyderabad' at the end of the list\n",
    "list"
   ]
  },
  {
   "cell_type": "code",
   "execution_count": 22,
   "metadata": {},
   "outputs": [
    {
     "data": {
      "text/plain": [
       "['Bengaluru',\n",
       " 'New York',\n",
       " 1971,\n",
       " '1682',\n",
       " (1, 2, 3, 4, 5, 'Is this tuple?'),\n",
       " \"'Hello, welcome to Python Programming'\"]"
      ]
     },
     "execution_count": 22,
     "metadata": {},
     "output_type": "execute_result"
    }
   ],
   "source": [
    "### Creating the original list again, since modifications were made on the original list\n",
    "### And we were asked carry out further questions on the original list only\n",
    "\n",
    "list = ['Bengaluru','New York',1971,'1682',(1,2,3,4,5,'Is this tuple?'),\"'Hello, welcome to Python Programming'\"]\n",
    "list"
   ]
  },
  {
   "cell_type": "markdown",
   "metadata": {},
   "source": [
    "#### extend"
   ]
  },
  {
   "cell_type": "code",
   "execution_count": 23,
   "metadata": {},
   "outputs": [
    {
     "data": {
      "text/plain": [
       "['Bengaluru',\n",
       " 'New York',\n",
       " 1971,\n",
       " '1682',\n",
       " (1, 2, 3, 4, 5, 'Is this tuple?'),\n",
       " \"'Hello, welcome to Python Programming'\",\n",
       " 'Kolkata',\n",
       " 'Chennai']"
      ]
     },
     "execution_count": 23,
     "metadata": {},
     "output_type": "execute_result"
    }
   ],
   "source": [
    "list.extend(['Kolkata','Chennai']) # Alters the list by adding another list at the end of first list\n",
    "list"
   ]
  },
  {
   "cell_type": "code",
   "execution_count": 24,
   "metadata": {},
   "outputs": [
    {
     "data": {
      "text/plain": [
       "['Bengaluru',\n",
       " 'New York',\n",
       " 1971,\n",
       " '1682',\n",
       " (1, 2, 3, 4, 5, 'Is this tuple?'),\n",
       " \"'Hello, welcome to Python Programming'\"]"
      ]
     },
     "execution_count": 24,
     "metadata": {},
     "output_type": "execute_result"
    }
   ],
   "source": [
    "### Creating the original list again, since modifications were made on the original list\n",
    "### And we were asked carry out further questions on the original list only\n",
    "\n",
    "list = ['Bengaluru','New York',1971,'1682',(1,2,3,4,5,'Is this tuple?'),\"'Hello, welcome to Python Programming'\"]\n",
    "list"
   ]
  },
  {
   "cell_type": "markdown",
   "metadata": {},
   "source": [
    "#### insert"
   ]
  },
  {
   "cell_type": "code",
   "execution_count": 25,
   "metadata": {},
   "outputs": [
    {
     "data": {
      "text/plain": [
       "['Bengaluru',\n",
       " 'New York',\n",
       " 1995,\n",
       " 1971,\n",
       " '1682',\n",
       " (1, 2, 3, 4, 5, 'Is this tuple?'),\n",
       " \"'Hello, welcome to Python Programming'\"]"
      ]
     },
     "execution_count": 25,
     "metadata": {},
     "output_type": "execute_result"
    }
   ],
   "source": [
    "list.insert(2,1995) # inserts a value '1995' at index 2\n",
    "list"
   ]
  },
  {
   "cell_type": "markdown",
   "metadata": {
    "delateable": false,
    "editable": false
   },
   "source": [
    "<div class=\"warning\" style='padding:0.1em; background-color:#E9D8FD; color:#69337A'>\n",
    "<span>\n",
    "<p style='margin-top:1em; text-align:left'>\n",
    "<b>7. Write a python program which can calculate the electricity bill by considering the no. of units consumed and other parameters are mentioned below.</b></p>\n",
    "</span>  \n",
    "\n",
    "- If units consumed is less than 50 then bill amount should be 100INR.\n",
    "- If units consumed between 50 - 300 then each unit will be charged at 4.5 INR.\n",
    "- If units are consumed more than 300 then that billed individual have to pay base pay as 1000INR and 300 units will be reduced from his total consumed units and for remaining units 7 INR will be charged for each unit.\n",
    "</div>\n",
    "\n",
    "\n"
   ]
  },
  {
   "cell_type": "code",
   "execution_count": 26,
   "metadata": {},
   "outputs": [
    {
     "name": "stdout",
     "output_type": "stream",
     "text": [
      "Enter Units consumed : 505\n",
      "Bill amount for 505.0 units :  2435.0 INR\n"
     ]
    }
   ],
   "source": [
    "# Prompting the user to enter the units consumed and converting it to a float\n",
    "Units = float(input(\"Enter Units consumed : \"))\n",
    "\n",
    "# Checking different conditions based on the units consumed\n",
    "\n",
    "# If units consumed are less than 50, the bill amount is fixed at 100 INR\n",
    "if Units < 50:\n",
    "    print(\"Bill amount for {} units : 100 INR\".format(Units))\n",
    "    \n",
    "# If units consumed are between 50 and 300 (inclusive), calculating bill amount based on a rate of 4.5 INR per unit\n",
    "elif Units >= 50 and Units <= 300:\n",
    "    print(\"Bill amount for {} units : \".format(Units), Units * 4.5, \"INR\")\n",
    "    \n",
    "# If units consumed are greater than 300, calculating bill amount with a fixed charge of 1000 INR for the first 300 units \n",
    "# and additional units charged at 7 INR \n",
    "else:\n",
    "    print(\"Bill amount for {} units : \".format(Units), 1000 + (Units - 300) * 7, \"INR\")\n"
   ]
  },
  {
   "cell_type": "markdown",
   "metadata": {
    "delateable": false,
    "editable": false
   },
   "source": [
    "<div class=\"warning\" style='padding:0.1em; background-color:#E9D8FD; color:#69337A'>\n",
    "<span>\n",
    "<p style='margin-top:1em; text-align:left'>\n",
    "<b>8. Write a program to calculate the tax of the vehicle based on the price.</b></p>\n",
    "</span>  \n",
    "- below are the parameters to consider\n",
    "\n",
    "    Cost price (in Rs)                                            Tax\n",
    "        > 150000                                                   18%\n",
    "        >100000 and <=150000                                       15 %\n",
    "        > 0 and <= 100000                                          10%\n",
    "         \n",
    "        "
   ]
  },
  {
   "cell_type": "code",
   "execution_count": 27,
   "metadata": {},
   "outputs": [
    {
     "name": "stdout",
     "output_type": "stream",
     "text": [
      "Enter Price of the Velicle (in Rs) : 150000\n",
      "Tax of the Vehilce for Cost Price of Rs. 150000.0 :  22500.0 INR\n"
     ]
    }
   ],
   "source": [
    "# Prompting the user to enter the price of the vehicle and converting it to a floating-point number\n",
    "Price = float(input(\"Enter Price of the Velicle (in Rs) : \"))\n",
    "\n",
    "# Checking different conditions based on the price of the vehicle\n",
    "\n",
    "# If the price is between 0 and 1,00,000 (inclusive), calculating tax at 10% of the price\n",
    "if Price > 0 and Price <= 100000:\n",
    "    print(\"Tax of the Vehilce for Cost Price of Rs. {} : \".format(Price), Price * 0.1 , \"INR\")\n",
    "    \n",
    "# If the price is between 1,00,000 (exclusive) and 1,50,000 (inclusive), calculating tax at 15% of the price\n",
    "elif Price > 100000 and Price <= 150000:\n",
    "    print(\"Tax of the Vehilce for Cost Price of Rs. {} : \".format(Price), Price * 0.15 , \"INR\")\n",
    "\n",
    "# For prices above 1,50,000, calculating tax at 18% of the price   \n",
    "else:\n",
    "    print(\"Tax of the Vehilce for Cost Price of Rs. {} : \".format(Price), Price * 0.18 , \"INR\")"
   ]
  },
  {
   "cell_type": "markdown",
   "metadata": {
    "delateable": false,
    "editable": false
   },
   "source": [
    "<div class=\"warning\" style='padding:0.1em; background-color:#E9D8FD; color:#69337A'>\n",
    "<span>\n",
    "<p style='margin-top:1em; text-align:left'>\n",
    "<b>9. Write a program to check if the input is positive or negative.</b></p>\n",
    "</span></div>\n",
    "\n"
   ]
  },
  {
   "cell_type": "code",
   "execution_count": 28,
   "metadata": {},
   "outputs": [
    {
     "name": "stdout",
     "output_type": "stream",
     "text": [
      "Please provide input : 10\n",
      "Provided input is Positive\n"
     ]
    }
   ],
   "source": [
    "#Prompt the user to input a floating-point number\n",
    "Input = float(input(\"Please provide input : \"))\n",
    "\n",
    "#Check if the input is greater than 0. If so, print \"Provided input is Positive\".\n",
    "if Input > 0:\n",
    "    print(\"Provided input is Positive\")\n",
    "    \n",
    "#If the input is not greater than 0, check if it is equal to 0. If so, print \"Provided input is Zero\".\n",
    "elif Input == 0:\n",
    "    print(\"Provided input is Zero\")\n",
    "\n",
    "#If neither of the above conditions is true, it means the input is negative, so print \"Provided input is Negative\".\n",
    "else:\n",
    "    print(\"Provided input is Negative\")"
   ]
  },
  {
   "cell_type": "markdown",
   "metadata": {
    "delateable": false,
    "editable": false
   },
   "source": [
    "<div class=\"warning\" style='padding:0.1em; background-color:#E9D8FD; color:#69337A'>\n",
    "<span>\n",
    "<p style='margin-top:1em; text-align:left'>\n",
    "<b>10. Define a function which can multiply the string with n number of times.</b></p>\n",
    "</span>\n",
    "\n",
    " \n",
    "- string = \"python programming\"</div>\n"
   ]
  },
  {
   "cell_type": "code",
   "execution_count": 29,
   "metadata": {},
   "outputs": [
    {
     "name": "stdout",
     "output_type": "stream",
     "text": [
      "How many times do you want the string to be printed : 5\n",
      "python programming  python programming  python programming  python programming  python programming  "
     ]
    }
   ],
   "source": [
    "# Define a function named mult that takes two parameters: x and y\n",
    "def mult(x,y):\n",
    "    for i in range(y): # Loop y times\n",
    "        print(x, end = \" \")  # Print the value of x, without a newline, but with a space (denoted by - end=' ')\n",
    "\n",
    "# Define a string named string\n",
    "string = \"python programming \"\n",
    "\n",
    "# Call the mult function with the string and the user input converted to an integer\n",
    "mult(string,int(input(\"How many times do you want the string to be printed : \")))"
   ]
  },
  {
   "cell_type": "markdown",
   "metadata": {
    "delateable": false,
    "editable": false
   },
   "source": [
    "<div class=\"warning\" style='padding:0.1em; background-color:#E9D8FD; color:#69337A'>\n",
    "<span>\n",
    "<p style='margin-top:1em; text-align:left'>\n",
    "<b>11. Define a function which can sum up two numbers.</b></p>\n",
    "</span>\n",
    "\n"
   ]
  },
  {
   "cell_type": "code",
   "execution_count": 30,
   "metadata": {},
   "outputs": [
    {
     "name": "stdout",
     "output_type": "stream",
     "text": [
      "First number please : 5\n",
      "Second number please : 10\n",
      "Sum of numbers 5.0 and 10.0 : 15.0\n"
     ]
    }
   ],
   "source": [
    "# Define a function named add that takes two parameters: x and y\n",
    "def add(x, y):\n",
    "    print(\"Sum of numbers {} and {} :\".format(x,y), x + y) # Print the sum of x and y\n",
    "\n",
    "# Prompt the user to input the first number and convert it to a floating-point number\n",
    "Num_1 = float(input(\"First number please : \"))\n",
    "\n",
    "# Prompt the user to input the second number and convert it to a floating-point number\n",
    "Num_2 = float(input(\"Second number please : \"))\n",
    "\n",
    "# Call the add function with the two input numbers as arguments\n",
    "add(Num_1, Num_2)\n"
   ]
  },
  {
   "cell_type": "markdown",
   "metadata": {
    "delateable": false,
    "editable": false
   },
   "source": [
    "<div class=\"warning\" style='padding:0.1em; background-color:#E9D8FD; color:#69337A'>\n",
    "<span>\n",
    "<p style='margin-top:1em; text-align:left'>\n",
    "<b>12. Define a function which can identify if a user has entered specific string or not.</b></p>\n",
    "</span>\n",
    "\n",
    " \n",
    "- specified string = \"India\"</div>\n",
    "\n"
   ]
  },
  {
   "cell_type": "code",
   "execution_count": 31,
   "metadata": {},
   "outputs": [
    {
     "name": "stdout",
     "output_type": "stream",
     "text": [
      "Enter string : India\n",
      "You have entered the specified string\n"
     ]
    }
   ],
   "source": [
    "# Define a function named check that takes one parameter: a\n",
    "def check(a):\n",
    "    if a == 'India': # Check if the value of a is equal to 'India'\n",
    "        print(\"You have entered the specified string\") # If true, print \"User has entered specified string\"\n",
    "\n",
    "    else:\n",
    "        print(\"You have not entered the specified string\") # If false, print \"User has not entered specified string\"\n",
    "\n",
    "# Prompt the user to input a string and store it in the variable String\n",
    "String = input(\"Enter string : \")\n",
    "\n",
    "# Call the check function with the input string as an argument\n",
    "check(String)\n"
   ]
  },
  {
   "cell_type": "markdown",
   "metadata": {
    "delateable": false,
    "editable": false
   },
   "source": [
    "<div class=\"warning\" style='padding:0.1em; background-color:#E9D8FD; color:#69337A'>\n",
    "<span>\n",
    "<p style='margin-top:1em; text-align:left'>\n",
    "<b>13. Define a function which will greet by taking user name as input.</b></p>\n",
    "</span>\n",
    " \n",
    "- input = name\n",
    "- hello 'name', hope you are doing well</div>\n",
    "\n",
    "\n",
    "\n"
   ]
  },
  {
   "cell_type": "code",
   "execution_count": 32,
   "metadata": {},
   "outputs": [
    {
     "name": "stdout",
     "output_type": "stream",
     "text": [
      "Please enter your name : Shakeeb\n",
      "hello 'Shakeeb', hope you are doing well\n"
     ]
    }
   ],
   "source": [
    "# Prompt the user to input their name and store it in the variable name\n",
    "name = input(\"Please enter your name : \")\n",
    "\n",
    "# Define a function named hello that takes one parameter: name\n",
    "def hello(name):\n",
    "    print(\"hello '{}', hope you are doing well\".format(name)) # Print a greeting message using string formatting to include the user's name\n",
    "\n",
    "# Call the hello function with the user's name as an argument\n",
    "hello(name)\n"
   ]
  },
  {
   "cell_type": "markdown",
   "metadata": {
    "delateable": false,
    "editable": false
   },
   "source": [
    "<div class=\"warning\" style='padding:0.1em; background-color:#E9D8FD; color:#69337A'>\n",
    "<span>\n",
    "<p style='margin-top:1em; text-align:left'>\n",
    "<b>14. Define a function which can give us the entire prime numbers within the given range.</b></p>\n",
    "<b>- For range(), input should be taken from the user.</b></p>\n",
    "</span>\n",
    "</div>\n",
    "\n"
   ]
  },
  {
   "cell_type": "code",
   "execution_count": 33,
   "metadata": {},
   "outputs": [
    {
     "name": "stdout",
     "output_type": "stream",
     "text": [
      "Enter the starting number of the range: 5\n",
      "Enter the ending number of the range: 10\n",
      "Prime numbers between 5 and 10 are [5, 7]\n"
     ]
    }
   ],
   "source": [
    "# Prompt the user to input the starting and ending numbers of the range\n",
    "start = int(input(\"Enter the starting number of the range: \"))\n",
    "end = int(input(\"Enter the ending number of the range: \"))\n",
    "\n",
    "prime_numbers = []  # Initialize an empty list to store prime numbers within the range\n",
    "\n",
    "# Iterate over the numbers from start to end (exclusive)\n",
    "for num in range(start, end):\n",
    "    if num > 1:  # Check if the number is greater than 1\n",
    "        for i in range(2, num):  # Iterate over the numbers from 2 to num-1\n",
    "            if (num % i) == 0:  # Check if num is divisible by any number in the range\n",
    "                break  # If num is divisible, break out of the loop\n",
    "        else:\n",
    "            prime_numbers.append(num)  # If num is not divisible by any number, it's prime, add the number to the list \n",
    "\n",
    "# Print the list of prime numbers within the specified range\n",
    "print(\"Prime numbers between {} and {} are {}\".format(start, end, prime_numbers))\n"
   ]
  },
  {
   "cell_type": "markdown",
   "metadata": {
    "delateable": false,
    "editable": false
   },
   "source": [
    "<div class=\"warning\" style='padding:0.1em; background-color:#E9D8FD; color:#69337A'>\n",
    "<span>\n",
    "<p style='margin-top:1em; text-align:left'>\n",
    "<b>15.Check if a given string is palindrome.\n",
    "</b></p>\n",
    "</span>\n",
    "<br> A string is palindrome if the reverse of the string is same as itself.\n",
    "<br> For eg. madam\n",
    "<br> Print \" `string` is palindrome\" if it is palindrome \n",
    "<br> else \" `string` is not a palindrome\" if it is not a palindrome.\n",
    "\n",
    "<br><b> Hint : Use slicing to get reverse of the string.\n"
   ]
  },
  {
   "cell_type": "code",
   "execution_count": 34,
   "metadata": {
    "scrolled": true
   },
   "outputs": [
    {
     "name": "stdout",
     "output_type": "stream",
     "text": [
      "Enter your string : malayalam\n",
      "'malayalam' is palindrome\n"
     ]
    }
   ],
   "source": [
    "# Prompt the user to input a string\n",
    "String = input(\"Enter your string : \")\n",
    "\n",
    "# Check if the string is a palindrome\n",
    "if String == String[::-1]:\n",
    "    print(\"'{}' is palindrome\".format(String))  # If the string is a palindrome, print a message indicating so\n",
    "else:\n",
    "    print(\"'{}' is not a palindrome\".format(String))  # If the string is not a palindrome, print a message indicating so\n"
   ]
  },
  {
   "cell_type": "markdown",
   "metadata": {
    "delateable": false,
    "editable": false
   },
   "source": [
    "<div class=\"warning\" style='padding:0.1em; background-color:#E9D8FD; color:#69337A'>\n",
    "<span>\n",
    "<p style='margin-top:1em; text-align:left'>\n",
    "<b>16. Write a python program to find n is a leap year.\n",
    "</b></p>\n",
    "</span>\n",
    "<br> Print \"n is a leap year\" if the given year is leap year.\n",
    "<br> Print \"n is not a leap year\" if the given year is not leap year.\n",
    "<br> Replace n with given year.\n",
    "    \n",
    "<br><b>   Hint : Use nested if-else </b>\n",
    "</div>\n"
   ]
  },
  {
   "cell_type": "code",
   "execution_count": 35,
   "metadata": {},
   "outputs": [
    {
     "name": "stdout",
     "output_type": "stream",
     "text": [
      "Enter the year : 1990\n",
      "1990 is not a leap year\n"
     ]
    }
   ],
   "source": [
    "# Define a function named year to check if a year is a leap year\n",
    "def year(num):\n",
    "    if num % 4 == 0:  # Check if the year is divisible by 4\n",
    "        if num % 100 == 0:  # If divisible by 4, check if it's divisible by 100\n",
    "            if num % 400 == 0:  # If divisible by 100, check if it's divisible by 400\n",
    "                return True  # If divisible by 400, it's a leap year\n",
    "            else:\n",
    "                return False  # If not divisible by 400, it's not a leap year\n",
    "        else:\n",
    "            return True  # If not divisible by 100, but divisible by 4, it's a leap year\n",
    "    else:\n",
    "        return False  # If not divisible by 4, it's not a leap year\n",
    "\n",
    "# Prompt the user to input a year and convert it to an integer\n",
    "Year = int(input(\"Enter the year : \"))\n",
    "\n",
    "# Check if the input year is a leap year using the year function\n",
    "if year(Year):\n",
    "    print(\"{} is a leap year\".format(Year))  # If it's a leap year, print a message indicating so\n",
    "else:\n",
    "    print(\"{} is not a leap year\".format(Year))  # If it's not a leap year, print a message indicating so\n"
   ]
  },
  {
   "cell_type": "markdown",
   "metadata": {
    "delateable": false,
    "editable": false
   },
   "source": [
    "<div class=\"warning\" style='padding:0.1em; background-color:#E9D8FD; color:#69337A'>\n",
    "<span>\n",
    "<p style='margin-top:1em; text-align:left'>\n",
    "<b>17. Define a function to check if n is leap year.</b></p>\n",
    "</span>\n",
    "   \n",
    "<b> Hint: Using the calendar module </b>\n",
    "</div>\n"
   ]
  },
  {
   "cell_type": "code",
   "execution_count": 36,
   "metadata": {},
   "outputs": [
    {
     "name": "stdout",
     "output_type": "stream",
     "text": [
      "Enter the year : 1990\n",
      "1990 is not a leap year\n"
     ]
    }
   ],
   "source": [
    "import calendar  # Importing the calendar module\n",
    "\n",
    "# Define a function named leap_year that checks if a year is a leap year\n",
    "def leap_year(num):\n",
    "    return calendar.isleap(num)  # Returns True if the year is a leap year, False otherwise\n",
    "\n",
    "# Prompt the user to input a year and convert it to an integer\n",
    "Year = int(input(\"Enter the year : \"))\n",
    "\n",
    "# Check if the input year is a leap year using the leap_year function\n",
    "if leap_year(Year):\n",
    "    print(\"{} is a leap year\".format(Year))  # If it's a leap year, print a message indicating the same\n",
    "else:\n",
    "    print(\"{} is not a leap year\".format(Year))  # If it's not a leap year, print a message indicating the same\n"
   ]
  },
  {
   "cell_type": "markdown",
   "metadata": {
    "delateable": false,
    "editable": false
   },
   "source": [
    "<div class=\"warning\" style='padding:0.1em; background-color:#E9D8FD; color:#69337A'>\n",
    "<span>\n",
    "<p style='margin-top:1em; text-align:left'>\n",
    "<b>18. Find the largest among three numbers.</b></p>\n",
    "</span>\n",
    "\n",
    " eg. Consider a,b,c as the three numbers, find which is the  largest number among them."
   ]
  },
  {
   "cell_type": "markdown",
   "metadata": {},
   "source": [
    "#### USING MAX FUNCTION (Using In-built function)"
   ]
  },
  {
   "cell_type": "code",
   "execution_count": 37,
   "metadata": {
    "scrolled": false
   },
   "outputs": [
    {
     "name": "stdout",
     "output_type": "stream",
     "text": [
      "Enter the first number : 10\n",
      "Enter the second number : 15\n",
      "Enter the third number : 20\n",
      "Largest number among 10.0, 15.0 and 20.0 is 20.0\n"
     ]
    }
   ],
   "source": [
    "# Prompt the user to input three numbers and convert them to float data type\n",
    "Num_1 = float(input(\"Enter the first number : \"))\n",
    "Num_2 = float(input(\"Enter the second number : \"))\n",
    "Num_3 = float(input(\"Enter the third number : \"))\n",
    "\n",
    "# Find the largest number among the three using the max() function\n",
    "Largest_number = max(Num_1, Num_2, Num_3)\n",
    "\n",
    "# Print the result, indicating the largest number among the three inputs\n",
    "print(\"Largest number among {}, {} and {} is {}\".format(Num_1, Num_2, Num_3, Largest_number))"
   ]
  },
  {
   "cell_type": "markdown",
   "metadata": {},
   "source": [
    "#### USING IF-ELSE LOOP (User Defined function)"
   ]
  },
  {
   "cell_type": "code",
   "execution_count": 38,
   "metadata": {},
   "outputs": [
    {
     "name": "stdout",
     "output_type": "stream",
     "text": [
      "Enter the first number : 25\n",
      "Enter the second number : 28\n",
      "Enter the third number : 30\n",
      "Largest number among 25.0, 28.0 and 30.0 is 30.0\n"
     ]
    }
   ],
   "source": [
    "# Prompt the user to input three numbers and convert them to float data type\n",
    "a = float(input(\"Enter the first number : \"))\n",
    "b = float(input(\"Enter the second number : \"))\n",
    "c = float(input(\"Enter the third number : \"))\n",
    "\n",
    "# Define a function named largest_number to find the largest number among three inputs\n",
    "def largest_number(a, b, c):\n",
    "    # Check conditions to determine the largest number among a, b, and c\n",
    "    if a > b and a > c: # If a is greater than b and c, then a is the largest number\n",
    "        print(\"Largest number among {}, {} and {} is {}\".format(a, b, c, a))\n",
    "    elif b > a and b > c: # If b is greater than a and c, then b is the largest number\n",
    "        print(\"Largest number among {}, {} and {} is {}\".format(a, b, c, b))\n",
    "    else: # If above 2 conditions are false, then eventually c is the largest number\n",
    "        print(\"Largest number among {}, {} and {} is {}\".format(a, b, c, c))\n",
    "\n",
    "# Call the largest_number function with the input numbers as arguments\n",
    "largest_number(a, b, c)\n"
   ]
  },
  {
   "cell_type": "markdown",
   "metadata": {
    "delateable": false,
    "editable": false
   },
   "source": [
    "\n",
    "<div class=\"warning\" style='padding:0.1em; background-color:#E9D8FD; color:#69337A'>\n",
    "<span>\n",
    "<p style='margin-top:1em; text-align:left'>\n",
    "<b>19. Write a python program to print even numbers from 1 to 15 by using range() function.\n",
    "</b></p>\n",
    "</span>\n"
   ]
  },
  {
   "cell_type": "code",
   "execution_count": 39,
   "metadata": {},
   "outputs": [
    {
     "name": "stdout",
     "output_type": "stream",
     "text": [
      "List of even numbers between 1 and 15 :  [2, 4, 6, 8, 10, 12, 14]\n"
     ]
    }
   ],
   "source": [
    "# Initialize an empty list to store even numbers\n",
    "even_nums = [] \n",
    "\n",
    "# Iterate over the range from 1 to 15 (exclusive)\n",
    "for i in range(1, 15):\n",
    "    if i % 2 == 0: # Check if the current number, if the remainder is 0, 'i' is even number\n",
    "        even_nums.append(i)  # If 'i' is even, add it to the list of even numbers\n",
    "\n",
    "print(\"List of even numbers between 1 and 15 : \", even_nums)  # Print the list of even numbers after the loop completes"
   ]
  },
  {
   "cell_type": "markdown",
   "metadata": {
    "delateable": false,
    "editable": false
   },
   "source": [
    "<div class=\"warning\" style='padding:0.1em; background-color:#E9D8FD; color:#69337A'>\n",
    "<span>\n",
    "<p style='margin-top:1em; text-align:left'>\n",
    "<b>20. Write a program to guess the integer which is selected by computer using  randint() function.\n",
    "</b></p>\n",
    "</span>\n",
    "\n",
    "- Use random() and randint().\n",
    "- Range should be 1 to 10.\n",
    "- If user's number is greater than 10 then program should say your guess is too high.\n",
    "- If user input is matches with the computer choice then your program should say \"yey! correct guess\".\n",
    "- Otherwise your program should say too low.\n",
    "\n",
    "    <b>- Important point to note is, this must be an iterative process until the correct guess.</div>"
   ]
  },
  {
   "cell_type": "code",
   "execution_count": 40,
   "metadata": {},
   "outputs": [
    {
     "name": "stdout",
     "output_type": "stream",
     "text": [
      "Enter your number (between 1 and 10): 1\n",
      "Your guess is too low\n",
      "Enter your number (between 1 and 10): 2\n",
      "Your guess is too low\n",
      "Enter your number (between 1 and 10): 3\n",
      "Your guess is too low\n",
      "Enter your number (between 1 and 10): 4\n",
      "Your guess is too low\n",
      "Enter your number (between 1 and 10): 5\n",
      "Your guess is too low\n",
      "Enter your number (between 1 and 10): 6\n",
      "Yey! Correct guess\n"
     ]
    }
   ],
   "source": [
    "import random  # Importing the random module to generate random numbers\n",
    "\n",
    "# Generate a random number between 1 and 10 (inclusive) and store it in Computer_selection\n",
    "Computer_selection = random.randint(1, 10)\n",
    "\n",
    "# Prompt the user to input their number\n",
    "User_number = int(input(\"Enter your number (between 1 and 10): \"))\n",
    "\n",
    "# Start a while loop that continues until the user's number matches the computer's selection\n",
    "while User_number != Computer_selection:\n",
    "   \n",
    "    if User_number > Computer_selection: # If the user's number is greater than the computer's selection\n",
    "        print(\"Your guess is too high\")  # Print a message indicating the guess is too high\n",
    "    \n",
    "    elif User_number < Computer_selection: # If the user's number is less than the computer's selection\n",
    "        print(\"Your guess is too low\")  # Print a message indicating the guess is too low\n",
    "    \n",
    "    # Prompt the user to input their number again\n",
    "    User_number = int(input(\"Enter your number (between 1 and 10): \"))\n",
    "\n",
    "# When the while loop exits (i.e., when the user's number matches the computer's selection)\n",
    "else:\n",
    "    print(\"Yey! Correct guess\")  # Print a message indicating the correct guess\n"
   ]
  },
  {
   "cell_type": "code",
   "execution_count": null,
   "metadata": {},
   "outputs": [],
   "source": []
  }
 ],
 "metadata": {
  "kernelspec": {
   "display_name": "Python 3 (ipykernel)",
   "language": "python",
   "name": "python3"
  },
  "language_info": {
   "codemirror_mode": {
    "name": "ipython",
    "version": 3
   },
   "file_extension": ".py",
   "mimetype": "text/x-python",
   "name": "python",
   "nbconvert_exporter": "python",
   "pygments_lexer": "ipython3",
   "version": "3.11.4"
  }
 },
 "nbformat": 4,
 "nbformat_minor": 4
}
